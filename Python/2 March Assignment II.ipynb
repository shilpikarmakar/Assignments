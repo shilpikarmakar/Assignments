{
 "cells": [
  {
   "cell_type": "markdown",
   "id": "1b53270b",
   "metadata": {},
   "source": [
    "#### 1. Create a python program to find duplicate files by content. User will input path and it will scan all directories, sub-directories to find all duplicates files. Delete the found duplicate file.\n",
    "[Hint: use hashlib]"
   ]
  },
  {
   "cell_type": "code",
   "execution_count": 1,
   "id": "8d675a38",
   "metadata": {},
   "outputs": [
    {
     "name": "stdout",
     "output_type": "stream",
     "text": [
      "[['Hello.txt', 'World.txt', 'duplicate.txt'], ['Test.txt'], ['abc.txt.txt', 'pqr.txt'], ['xyz.txt.txt']]\n"
     ]
    }
   ],
   "source": [
    "import os\n",
    "from pathlib import Path\n",
    "from filecmp import cmp\n",
    "  \n",
    "  \n",
    "# list of all documents\n",
    "DATA_DIR = Path('C:/Users/skarmakar/Assess')\n",
    "files = sorted(os.listdir(DATA_DIR))\n",
    "\n",
    "duplicateFiles = []\n",
    "  \n",
    "for file_x in files:\n",
    "  \n",
    "    if_dupl = False\n",
    "  \n",
    "    for class_ in duplicateFiles:\n",
    "        if_dupl = cmp(\n",
    "            DATA_DIR / file_x,\n",
    "            DATA_DIR / class_[0],\n",
    "            shallow=False\n",
    "        )\n",
    "        if if_dupl:\n",
    "            class_.append(file_x)\n",
    "            break\n",
    "  \n",
    "    if not if_dupl:\n",
    "        duplicateFiles.append([file_x])\n",
    "  \n",
    "print(duplicateFiles)"
   ]
  },
  {
   "cell_type": "code",
   "execution_count": 2,
   "id": "cf085346",
   "metadata": {},
   "outputs": [
    {
     "name": "stdout",
     "output_type": "stream",
     "text": [
      "[['Hello.txt'], ['Test.txt'], ['abc.txt.txt'], ['xyz.txt.txt']]\n"
     ]
    }
   ],
   "source": [
    "for i in duplicateFiles:\n",
    "    if len(i)>1:\n",
    "        del i[1:]\n",
    "print(duplicateFiles)"
   ]
  },
  {
   "cell_type": "markdown",
   "id": "c4a664af",
   "metadata": {},
   "source": [
    "#### 2.\tGenerate random Password with exact length = 6, with minimum 1 uppercase, 2 lowercase, 2 digits, and remaining special characters. Using these packages [random, strings]"
   ]
  },
  {
   "cell_type": "code",
   "execution_count": 3,
   "id": "ceee6406",
   "metadata": {},
   "outputs": [
    {
     "name": "stdout",
     "output_type": "stream",
     "text": [
      "|-lm}?\n"
     ]
    }
   ],
   "source": [
    "import random\n",
    "import string\n",
    "for _ in range(2):\n",
    "    lower = string.ascii_lowercase\n",
    "for _ in range(2):\n",
    "    digits = string.digits\n",
    "for _ in range(1):\n",
    "    upper = string.ascii_uppercase\n",
    "special = string.punctuation\n",
    "password = lower + upper + digits + special\n",
    "temporary = random.sample(password,6)\n",
    "pswd  = \"\".join(temporary)\n",
    "print(pswd)"
   ]
  },
  {
   "cell_type": "markdown",
   "id": "23f0092c",
   "metadata": {},
   "source": [
    "#### 3.\tCreate 2D array and update the same 2D array provided that every prime number position should be replaced by cube of the positioned number."
   ]
  },
  {
   "cell_type": "code",
   "execution_count": 15,
   "id": "69696ea3",
   "metadata": {},
   "outputs": [
    {
     "name": "stdout",
     "output_type": "stream",
     "text": [
      "Enter the number of rows:3\n",
      "Enter the number of columns: 3\n",
      "Enter the elements of array: 1\n",
      "Enter the elements of array: 2\n",
      "Enter the elements of array: 3\n",
      "Enter the elements of array: 4\n",
      "Enter the elements of array: 5\n",
      "Enter the elements of array: 6\n",
      "Enter the elements of array: 7\n",
      "Enter the elements of array: 8\n",
      "Enter the elements of array: 9\n",
      "[[  1.   8.  27.]\n",
      " [  4. 125.   6.]\n",
      " [343.   8.   9.]]\n"
     ]
    }
   ],
   "source": [
    "import numpy as np\n",
    "rows = int(input(\"Enter the number of rows:\"))\n",
    "columns = int(input(\"Enter the number of columns: \"))\n",
    "arr = np.empty((rows,columns))\n",
    "for i in range(rows):\n",
    "    for j in range(columns):\n",
    "        arr[i][j] = int(input(\"Enter the elements of array: \"))\n",
    "        \n",
    "        \n",
    "def prime(num):\n",
    "    c = 0\n",
    "    i = 1\n",
    "    while i<=num:\n",
    "        if num%i==0:\n",
    "            c += 1\n",
    "        i += 1\n",
    "    if c == 2:\n",
    "        return True\n",
    "    else:\n",
    "        return False\n",
    "\n",
    "count = 1\n",
    "for i in range(rows):\n",
    "    for j in range(columns):\n",
    "        if prime(count):\n",
    "            arr[i][j] = arr[i][j]**3\n",
    "        count += 1\n",
    "\n",
    "print(arr)"
   ]
  },
  {
   "cell_type": "markdown",
   "id": "24230579",
   "metadata": {},
   "source": [
    "#### 4. Python program to get the sum of every cubed value and its previous integer."
   ]
  },
  {
   "cell_type": "code",
   "execution_count": 18,
   "id": "1c5899b9",
   "metadata": {},
   "outputs": [
    {
     "name": "stdout",
     "output_type": "stream",
     "text": [
      "Enter the number of rows:3\n",
      "Enter the number of columns: 3\n",
      "Enter the elements of array: 1\n",
      "Enter the elements of array: 2\n",
      "Enter the elements of array: 3\n",
      "Enter the elements of array: 4\n",
      "Enter the elements of array: 5\n",
      "Enter the elements of array: 6\n",
      "Enter the elements of array: 7\n",
      "Enter the elements of array: 8\n",
      "Enter the elements of array: 9\n",
      "[[  1.   9.  36.]\n",
      " [  4. 129.   6.]\n",
      " [352.   8.   9.]]\n"
     ]
    }
   ],
   "source": [
    "import numpy as np\n",
    "rows = int(input(\"Enter the number of rows:\"))\n",
    "columns = int(input(\"Enter the number of columns: \"))\n",
    "arr = np.empty((rows,columns))\n",
    "for i in range(rows):\n",
    "    for j in range(columns):\n",
    "        arr[i][j] = int(input(\"Enter the elements of array: \"))\n",
    "        \n",
    "        \n",
    "def prime(num):\n",
    "    c = 0\n",
    "    i = 1\n",
    "    while i<=num:\n",
    "        if num%i==0:\n",
    "            c += 1\n",
    "        i += 1\n",
    "    if c == 2:\n",
    "        return True\n",
    "    else:\n",
    "        return False\n",
    "\n",
    "count = 1\n",
    "for i in range(rows):\n",
    "    for j in range(columns):\n",
    "        if prime(count):\n",
    "            arr[i][j] = arr[i][j]**3 + arr[i][j-1]\n",
    "        count += 1\n",
    "\n",
    "print(arr)"
   ]
  },
  {
   "cell_type": "markdown",
   "id": "364cdb2b",
   "metadata": {},
   "source": [
    "##### 5.\tGiven two arrays, find their intersection. Examples:\n",
    "\n",
    "#### Input:  arr1[] = [1, 3, 4, 5, 7]\n",
    "####             arr2[] = [2, 3, 5, 6]"
   ]
  },
  {
   "cell_type": "code",
   "execution_count": 5,
   "id": "d953f444",
   "metadata": {},
   "outputs": [
    {
     "name": "stdout",
     "output_type": "stream",
     "text": [
      "[3 5]\n"
     ]
    }
   ],
   "source": [
    "import numpy as np\n",
    "\n",
    "arr1 = np.array([1,3,4,5,7])\n",
    "arr2 = np.array([2,3,5,6])\n",
    "\n",
    "def intersection(arr1,arr2):\n",
    "    return np.intersect1d(arr1,arr2)\n",
    "\n",
    "print(intersection(arr1,arr2))"
   ]
  },
  {
   "cell_type": "markdown",
   "id": "e6113d05",
   "metadata": {},
   "source": [
    "#### 6.\tCreate a 7 x 7  2D array having only multiples of 7. And return the last element of the same."
   ]
  },
  {
   "cell_type": "code",
   "execution_count": 6,
   "id": "041d665c",
   "metadata": {},
   "outputs": [
    {
     "name": "stdout",
     "output_type": "stream",
     "text": [
      "Last element of the array is:  343.0\n"
     ]
    }
   ],
   "source": [
    "import numpy as np\n",
    "arr = np.zeros((7,7))\n",
    "for i in range(7):\n",
    "    for j in range(7):\n",
    "        arr[i][j] = (i+1) * (j+1) * 7\n",
    "              \n",
    "print(\"Last element of the array is: \", (arr[6][6]))"
   ]
  },
  {
   "cell_type": "markdown",
   "id": "1e63e4b1",
   "metadata": {},
   "source": [
    "#### 7.\tChecker Board Pattern"
   ]
  },
  {
   "cell_type": "code",
   "execution_count": 7,
   "id": "66d9ab9d",
   "metadata": {},
   "outputs": [
    {
     "data": {
      "text/plain": [
       "array([[1., 0., 1., 0., 1.],\n",
       "       [0., 1., 0., 1., 0.],\n",
       "       [1., 0., 1., 0., 1.],\n",
       "       [0., 1., 0., 1., 0.],\n",
       "       [1., 0., 1., 0., 1.]])"
      ]
     },
     "execution_count": 7,
     "metadata": {},
     "output_type": "execute_result"
    }
   ],
   "source": [
    "import numpy as np\n",
    "x = np.ones((5,5))\n",
    "x[1::2,0::2] = 0\n",
    "x[0::2,1::2] = 0\n",
    "x"
   ]
  },
  {
   "cell_type": "markdown",
   "id": "eda0763d",
   "metadata": {},
   "source": [
    "#### 8.\tCreate a given Matrix:\n",
    "####   [  A, B, C, D\n",
    "####      E, F, G, H\n",
    "####      I, J, K, L\n",
    "####      M, N, O, P\n",
    "####      Q, R, S, T\n",
    "####      U, V, W, X ]\n",
    "\n",
    "#### Replace all the vowels by np.nan\n",
    "#### A, E, I, O U  -- >  np.nan\n",
    "#### Return the count of the missing values"
   ]
  },
  {
   "cell_type": "code",
   "execution_count": 8,
   "id": "af0e6b28",
   "metadata": {},
   "outputs": [
    {
     "name": "stdout",
     "output_type": "stream",
     "text": [
      "[array(['n', 'B', 'C', 'D'], dtype='<U1'), array(['n', 'F', 'G', 'H'], dtype='<U1'), array(['n', 'J', 'K', 'L'], dtype='<U1'), array(['M', 'N', 'n', 'P'], dtype='<U1'), array(['Q', 'R', 'S', 'T'], dtype='<U1'), array(['n', 'V', 'W', 'X'], dtype='<U1')]\n"
     ]
    }
   ],
   "source": [
    "import numpy as np\n",
    "x = np.array([['A','B','C','D'],['E','F','G','H'],['I','J','K','L'],['M','N','O','P'],['Q','R','S','T'],['U','V','W','X']])\n",
    "list_1 = list(x)\n",
    "for i in range(len(list_1)):\n",
    "    for j in range(len(list_1[i])):\n",
    "        if list_1[i][j]=='A' or list_1[i][j]=='E' or list_1[i][j]=='I' or list_1[i][j]=='O' or list_1[i][j]=='U':\n",
    "            list_1[i][j] = np.nan\n",
    "print(list_1)"
   ]
  },
  {
   "cell_type": "code",
   "execution_count": null,
   "id": "b7386afb",
   "metadata": {},
   "outputs": [],
   "source": []
  },
  {
   "cell_type": "code",
   "execution_count": null,
   "id": "0a6c19b7",
   "metadata": {},
   "outputs": [],
   "source": []
  }
 ],
 "metadata": {
  "kernelspec": {
   "display_name": "Python 3 (ipykernel)",
   "language": "python",
   "name": "python3"
  },
  "language_info": {
   "codemirror_mode": {
    "name": "ipython",
    "version": 3
   },
   "file_extension": ".py",
   "mimetype": "text/x-python",
   "name": "python",
   "nbconvert_exporter": "python",
   "pygments_lexer": "ipython3",
   "version": "3.9.13"
  }
 },
 "nbformat": 4,
 "nbformat_minor": 5
}
