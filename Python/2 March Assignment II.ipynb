{
 "cells": [
  {
   "cell_type": "markdown",
   "id": "1b53270b",
   "metadata": {},
   "source": [
    "#### Create a python program to find duplicate files by content. User will input path and it will scan all directories, sub-directories to find all duplicates files. Delete the found duplicate file.\n",
    "[Hint: use hashlib]"
   ]
  },
  {
   "cell_type": "code",
   "execution_count": 2,
   "id": "8d675a38",
   "metadata": {},
   "outputs": [
    {
     "name": "stdout",
     "output_type": "stream",
     "text": [
      "[['Hello.txt', 'World.txt', 'duplicate.txt'], ['Test.txt'], ['abc.txt.txt', 'pqr.txt'], ['xyz.txt.txt']]\n"
     ]
    }
   ],
   "source": [
    "import os\n",
    "from pathlib import Path\n",
    "from filecmp import cmp\n",
    "  \n",
    "  \n",
    "# list of all documents\n",
    "DATA_DIR = Path('C:/Users/skarmakar/Assess')\n",
    "files = sorted(os.listdir(DATA_DIR))\n",
    "\n",
    "duplicateFiles = []\n",
    "  \n",
    "for file_x in files:\n",
    "  \n",
    "    if_dupl = False\n",
    "  \n",
    "    for class_ in duplicateFiles:\n",
    "        if_dupl = cmp(\n",
    "            DATA_DIR / file_x,\n",
    "            DATA_DIR / class_[0],\n",
    "            shallow=False\n",
    "        )\n",
    "        if if_dupl:\n",
    "            class_.append(file_x)\n",
    "            break\n",
    "  \n",
    "    if not if_dupl:\n",
    "        duplicateFiles.append([file_x])\n",
    "  \n",
    "print(duplicateFiles)"
   ]
  },
  {
   "cell_type": "code",
   "execution_count": 4,
   "id": "cf085346",
   "metadata": {},
   "outputs": [
    {
     "name": "stdout",
     "output_type": "stream",
     "text": [
      "[['Hello.txt'], ['Test.txt'], ['abc.txt.txt'], ['xyz.txt.txt']]\n"
     ]
    }
   ],
   "source": [
    "for i in duplicateFiles:\n",
    "    if len(i)>1:\n",
    "        del i[1:]\n",
    "print(duplicateFiles)"
   ]
  },
  {
   "cell_type": "markdown",
   "id": "c4a664af",
   "metadata": {},
   "source": [
    "#### 2.\tGenerate random Password with exact length = 6, with minimum 1 uppercase, 2 lowercase, 2 digits, and remaining special characters. Using these packages [random, strings]"
   ]
  },
  {
   "cell_type": "code",
   "execution_count": 7,
   "id": "ceee6406",
   "metadata": {},
   "outputs": [
    {
     "name": "stdout",
     "output_type": "stream",
     "text": [
      "R9vWNe\n"
     ]
    }
   ],
   "source": [
    "import random\n",
    "import string\n",
    "for _ in range(2):\n",
    "    lower = string.ascii_lowercase\n",
    "for _ in range(2):\n",
    "    digits = string.digits\n",
    "for _ in range(1):\n",
    "    upper = string.ascii_uppercase\n",
    "special = string.punctuation\n",
    "password = lower + upper + digits + special\n",
    "temporary = random.sample(password,6)\n",
    "pswd  = \"\".join(temporary)\n",
    "print(pswd)"
   ]
  },
  {
   "cell_type": "markdown",
   "id": "0ca38555",
   "metadata": {},
   "source": [
    "#### 3.\tCreate 2D array and update the same 2D array provided that every prime number position should be replaced by cube of the positioned number."
   ]
  },
  {
   "cell_type": "code",
   "execution_count": 6,
   "id": "28d18260",
   "metadata": {},
   "outputs": [
    {
     "ename": "ZeroDivisionError",
     "evalue": "integer division or modulo by zero",
     "output_type": "error",
     "traceback": [
      "\u001b[1;31m---------------------------------------------------------------------------\u001b[0m",
      "\u001b[1;31mZeroDivisionError\u001b[0m                         Traceback (most recent call last)",
      "\u001b[1;32m~\\AppData\\Local\\Temp\\ipykernel_16700\\3437674525.py\u001b[0m in \u001b[0;36m<module>\u001b[1;34m\u001b[0m\n\u001b[0;32m     16\u001b[0m     \u001b[1;32mfor\u001b[0m \u001b[0mj\u001b[0m \u001b[1;32min\u001b[0m \u001b[0mrange\u001b[0m\u001b[1;33m(\u001b[0m\u001b[1;36m17\u001b[0m\u001b[1;33m)\u001b[0m\u001b[1;33m:\u001b[0m\u001b[1;33m\u001b[0m\u001b[1;33m\u001b[0m\u001b[0m\n\u001b[0;32m     17\u001b[0m         \u001b[0mn\u001b[0m \u001b[1;33m=\u001b[0m \u001b[0mi\u001b[0m \u001b[1;33m*\u001b[0m \u001b[1;36m17\u001b[0m \u001b[1;33m+\u001b[0m \u001b[0mj\u001b[0m \u001b[1;33m+\u001b[0m \u001b[1;36m1\u001b[0m\u001b[1;33m\u001b[0m\u001b[1;33m\u001b[0m\u001b[0m\n\u001b[1;32m---> 18\u001b[1;33m         \u001b[1;32mif\u001b[0m \u001b[0mprime\u001b[0m\u001b[1;33m(\u001b[0m\u001b[0mn\u001b[0m\u001b[1;33m)\u001b[0m\u001b[1;33m:\u001b[0m\u001b[1;33m\u001b[0m\u001b[1;33m\u001b[0m\u001b[0m\n\u001b[0m\u001b[0;32m     19\u001b[0m             \u001b[0marr\u001b[0m\u001b[1;33m[\u001b[0m\u001b[0mi\u001b[0m\u001b[1;33m]\u001b[0m\u001b[1;33m[\u001b[0m\u001b[0mj\u001b[0m\u001b[1;33m]\u001b[0m \u001b[1;33m=\u001b[0m \u001b[0mn\u001b[0m\u001b[1;33m**\u001b[0m\u001b[1;36m3\u001b[0m\u001b[1;33m;\u001b[0m\u001b[1;33m\u001b[0m\u001b[1;33m\u001b[0m\u001b[0m\n\u001b[0;32m     20\u001b[0m \u001b[1;33m\u001b[0m\u001b[0m\n",
      "\u001b[1;32m~\\AppData\\Local\\Temp\\ipykernel_16700\\3437674525.py\u001b[0m in \u001b[0;36mprime\u001b[1;34m(n)\u001b[0m\n\u001b[0;32m      5\u001b[0m     \u001b[0mi\u001b[0m \u001b[1;33m=\u001b[0m \u001b[1;36m1\u001b[0m\u001b[1;33m\u001b[0m\u001b[1;33m\u001b[0m\u001b[0m\n\u001b[0;32m      6\u001b[0m     \u001b[1;32mfor\u001b[0m \u001b[0mi\u001b[0m \u001b[1;32min\u001b[0m \u001b[0mrange\u001b[0m\u001b[1;33m(\u001b[0m\u001b[0mn\u001b[0m\u001b[1;33m)\u001b[0m\u001b[1;33m:\u001b[0m\u001b[1;33m\u001b[0m\u001b[1;33m\u001b[0m\u001b[0m\n\u001b[1;32m----> 7\u001b[1;33m         \u001b[1;32mif\u001b[0m \u001b[0mn\u001b[0m\u001b[1;33m%\u001b[0m\u001b[0mi\u001b[0m \u001b[1;33m==\u001b[0m \u001b[1;36m0\u001b[0m\u001b[1;33m:\u001b[0m\u001b[1;33m\u001b[0m\u001b[1;33m\u001b[0m\u001b[0m\n\u001b[0m\u001b[0;32m      8\u001b[0m             \u001b[0mc\u001b[0m \u001b[1;33m+=\u001b[0m \u001b[1;36m1\u001b[0m\u001b[1;33m;\u001b[0m\u001b[1;33m\u001b[0m\u001b[1;33m\u001b[0m\u001b[0m\n\u001b[0;32m      9\u001b[0m     \u001b[1;32mif\u001b[0m \u001b[0mc\u001b[0m \u001b[1;33m==\u001b[0m \u001b[1;36m2\u001b[0m\u001b[1;33m:\u001b[0m\u001b[1;33m\u001b[0m\u001b[1;33m\u001b[0m\u001b[0m\n",
      "\u001b[1;31mZeroDivisionError\u001b[0m: integer division or modulo by zero"
     ]
    }
   ],
   "source": [
    "import math\n",
    "import numpy as np\n",
    "def prime(n):\n",
    "    c = 0\n",
    "    i = 1\n",
    "    for i in range(n):\n",
    "        if n%i == 0:\n",
    "            c += 1;\n",
    "    if c == 2:\n",
    "        return True\n",
    "    else:\n",
    "        return False\n",
    "\n",
    "arr = np.arange(0,16).reshape(4,4)\n",
    "for i in range(17):\n",
    "    for j in range(17):\n",
    "        n = i * 17 + j + 1\n",
    "        if prime(n):\n",
    "            arr[i][j] = n**3;\n",
    "            \n",
    "for i in range(17):\n",
    "    for j in range(17):\n",
    "        print(arr[i][j], end=\" \")\n",
    "    print()"
   ]
  },
  {
   "cell_type": "markdown",
   "id": "e6113d05",
   "metadata": {},
   "source": [
    "#### 6.\tCreate a 7 x 7  2D array having only multiples of 7. And return the last element of the same."
   ]
  },
  {
   "cell_type": "code",
   "execution_count": 9,
   "id": "041d665c",
   "metadata": {},
   "outputs": [
    {
     "name": "stdout",
     "output_type": "stream",
     "text": [
      "[[  7.  14.  21.  28.  35.  42.  49.]\n",
      " [ 14.  28.  42.  56.  70.  84.  98.]\n",
      " [ 21.  42.  63.  84. 105. 126. 147.]\n",
      " [ 28.  56.  84. 112. 140. 168. 196.]\n",
      " [ 35.  70. 105. 140. 175. 210. 245.]\n",
      " [ 42.  84. 126. 168. 210. 252. 294.]\n",
      " [ 49.  98. 147. 196. 245. 294. 343.]]\n",
      "Last element of the array is:  343.0\n"
     ]
    }
   ],
   "source": [
    "import numpy as np\n",
    "arr = np.zeros((7,7))\n",
    "for i in range(7):\n",
    "    for j in range(7):\n",
    "        arr[i][j] = (i+1) * (j+1) * 7\n",
    "              \n",
    "print(\"Last element of the array is: \", (arr[6][6]))"
   ]
  },
  {
   "cell_type": "markdown",
   "id": "1e63e4b1",
   "metadata": {},
   "source": [
    "#### 7.\tChecker Board Pattern"
   ]
  },
  {
   "cell_type": "code",
   "execution_count": 1,
   "id": "66d9ab9d",
   "metadata": {},
   "outputs": [
    {
     "data": {
      "text/plain": [
       "array([[1., 0., 1., 0., 1.],\n",
       "       [0., 1., 0., 1., 0.],\n",
       "       [1., 0., 1., 0., 1.],\n",
       "       [0., 1., 0., 1., 0.],\n",
       "       [1., 0., 1., 0., 1.]])"
      ]
     },
     "execution_count": 1,
     "metadata": {},
     "output_type": "execute_result"
    }
   ],
   "source": [
    "import numpy as np\n",
    "x = np.ones((5,5))\n",
    "x[1::2,0::2] = 0\n",
    "x[0::2,1::2] = 0\n",
    "x"
   ]
  },
  {
   "cell_type": "markdown",
   "id": "eda0763d",
   "metadata": {},
   "source": [
    "#### 8.\tCreate a given Matrix:\n",
    "####   [  A, B, C, D\n",
    "####      E, F, G, H\n",
    "####      I, J, K, L\n",
    "####      M, N, O, P\n",
    "####      Q, R, S, T\n",
    "####      U, V, W, X ]\n",
    "\n",
    "#### Replace all the vowels by np.nan\n",
    "#### A, E, I, O U  -- >  np.nan\n",
    "#### Return the count of the missing values"
   ]
  },
  {
   "cell_type": "code",
   "execution_count": 5,
   "id": "af0e6b28",
   "metadata": {},
   "outputs": [
    {
     "name": "stdout",
     "output_type": "stream",
     "text": [
      "[array(['n', 'B', 'C', 'D'], dtype='<U1'), array(['n', 'F', 'G', 'H'], dtype='<U1'), array(['n', 'J', 'K', 'L'], dtype='<U1'), array(['M', 'N', 'n', 'P'], dtype='<U1'), array(['Q', 'R', 'S', 'T'], dtype='<U1'), array(['n', 'V', 'W', 'X'], dtype='<U1')]\n"
     ]
    }
   ],
   "source": [
    "import numpy as np\n",
    "x = np.array([['A','B','C','D'],['E','F','G','H'],['I','J','K','L'],['M','N','O','P'],['Q','R','S','T'],['U','V','W','X']])\n",
    "list_1 = list(x)\n",
    "for i in range(len(list_1)):\n",
    "    for j in range(len(list_1[i])):\n",
    "        if list_1[i][j]=='A' or list_1[i][j]=='E' or list_1[i][j]=='I' or list_1[i][j]=='O' or list_1[i][j]=='U':\n",
    "            list_1[i][j] = np.nan\n",
    "print(list_1)"
   ]
  },
  {
   "cell_type": "code",
   "execution_count": null,
   "id": "b7386afb",
   "metadata": {},
   "outputs": [],
   "source": []
  }
 ],
 "metadata": {
  "kernelspec": {
   "display_name": "Python 3 (ipykernel)",
   "language": "python",
   "name": "python3"
  },
  "language_info": {
   "codemirror_mode": {
    "name": "ipython",
    "version": 3
   },
   "file_extension": ".py",
   "mimetype": "text/x-python",
   "name": "python",
   "nbconvert_exporter": "python",
   "pygments_lexer": "ipython3",
   "version": "3.9.13"
  }
 },
 "nbformat": 4,
 "nbformat_minor": 5
}
