{
 "cells": [
  {
   "cell_type": "markdown",
   "id": "5f1fe116-e7cf-45e1-86a5-473445d9952f",
   "metadata": {},
   "source": [
    "### 1. Using keys and indexing, grab the 'hello' afrom the following dictionary"
   ]
  },
  {
   "cell_type": "code",
   "execution_count": 38,
   "id": "061e2dba-e128-4942-be35-b45c680d013c",
   "metadata": {},
   "outputs": [
    {
     "data": {
      "text/plain": [
       "['hello']"
      ]
     },
     "execution_count": 38,
     "metadata": {},
     "output_type": "execute_result"
    }
   ],
   "source": [
    "d = {'k1':[1,2,{'k2':['this is tricky',{'tough':[1,2,['hello']]}]}]}\n",
    "d1 = d['k1'][2]\n",
    "d2 = d1['k2'][1]\n",
    "d3 = d2['tough'][2]\n",
    "d3"
   ]
  },
  {
   "cell_type": "markdown",
   "id": "689c01fb-3911-40be-8e0b-00a8eab4dd18",
   "metadata": {},
   "source": [
    "### 2. Write a Python function that takes a list and returns a new list with unique elements of the first list.\n",
    "**!!!! DO NOT USE list(set())**  \\\n",
    "    Sample List : [1,1,1,1,2,2,3,3,3,3,4,5]   \\\n",
    "    Unique List : [1, 2, 3, 4, 5]"
   ]
  },
  {
   "cell_type": "code",
   "execution_count": 12,
   "id": "fffeec50",
   "metadata": {},
   "outputs": [
    {
     "name": "stdout",
     "output_type": "stream",
     "text": [
      "[1, 2, 3, 4, 5]\n"
     ]
    }
   ],
   "source": [
    "SampleList = [1,1,1,1,2,2,3,3,3,3,4,5]\n",
    "UniqueList = []\n",
    "for i in range(len(SampleList)):\n",
    "    if SampleList[i] not in UniqueList:\n",
    "        UniqueList.append(SampleList[i])\n",
    "print(UniqueList)"
   ]
  },
  {
   "cell_type": "markdown",
   "id": "cb41f026-decb-4b3c-9fb7-b27c2646fb04",
   "metadata": {},
   "source": [
    "### 3. Write a Python function that accepts a string and calculates the number of upper case letters and lower case letters.\n",
    "\n",
    "    Sample String : 'Hello Mr. Roshan, how are you this fine Tuesday?'\n",
    "    Expected Output : \n",
    "    No. of Upper case characters : 4\n",
    "    No. of Lower case Characters : 33"
   ]
  },
  {
   "cell_type": "code",
   "execution_count": 44,
   "id": "465ba022",
   "metadata": {},
   "outputs": [
    {
     "name": "stdout",
     "output_type": "stream",
     "text": [
      "No. of Upper case characters : 4\n",
      "No. of Lower case characters : 33\n"
     ]
    }
   ],
   "source": [
    "def upperandlower(s):      \n",
    "    upper = sum(1 for i in s if i.isupper())\n",
    "    lower = sum(1 for i in s if i.islower())\n",
    "    print(\"No. of Upper case characters : %s\" %upper)\n",
    "    print(\"No. of Lower case characters : %s\" %lower)\n",
    "\n",
    "upperandlower('Hello Mr. Roshan, how are you this fine Tuesday?')"
   ]
  },
  {
   "cell_type": "markdown",
   "id": "8a0e1caf-e446-40e5-9418-348d5a9394d2",
   "metadata": {},
   "source": [
    "### 4.Create & Read a file constitution.txt. Create a dictionary with an entry for each letter in the alphabet. The keys are letters and the values will be the counts of the number of times a letter has viewed. Go through each character in data, skipping characters that aren't letters. For every letter, increment the count stored in letter_counts for that letter. Create a bar chart for the letter frequencies."
   ]
  },
  {
   "cell_type": "code",
   "execution_count": null,
   "id": "0487cb1c",
   "metadata": {},
   "outputs": [],
   "source": []
  },
  {
   "cell_type": "markdown",
   "id": "d9efe72b-87cb-4430-8a82-05e5050f92bc",
   "metadata": {},
   "source": [
    "### 5. For this challenge,\n",
    "\n",
    "Create a bank account class that has two attributes:\n",
    "\n",
    "owner balance and two methods:\n",
    "\n",
    "deposit withdraw As an added requirement, withdrawals may not exceed the available balance.\n",
    "\n",
    "Instantiate your class, make several deposits and withdrawals, and test to make sure the account can't be overdrawn."
   ]
  },
  {
   "cell_type": "code",
   "execution_count": 50,
   "id": "8a0475ba",
   "metadata": {},
   "outputs": [
    {
     "name": "stdout",
     "output_type": "stream",
     "text": [
      "Welcome\n",
      "Enter amount to be Deposited: 6000\n",
      "\n",
      " Deposited: 6000.0\n",
      "Enter amount to be Withdrawn: 200\n",
      "\n",
      " You have withdrawn: 200.0\n",
      "\n",
      " Available Balance= 5800.0\n"
     ]
    }
   ],
   "source": [
    "class Bank_Account:\n",
    "    def __init__(self):\n",
    "        self.balance=0\n",
    "        print(\"Welcome\")\n",
    " \n",
    "    def deposit(self):\n",
    "        amount=float(input(\"Enter amount to be Deposited: \"))\n",
    "        self.balance += amount\n",
    "        print(\"\\n Deposited:\",amount)\n",
    " \n",
    "    def withdraw(self):\n",
    "        amount = float(input(\"Enter amount to be Withdrawn: \"))\n",
    "        if self.balance>=amount:\n",
    "            self.balance-=amount\n",
    "            print(\"\\n You have withdrawn:\", amount)\n",
    "        else:\n",
    "            print(\"\\n Insufficient balance  \")\n",
    " \n",
    "    def display(self):\n",
    "        print(\"\\n Available Balance:\",self.balance)\n",
    "\n",
    "obj = Bank_Account()\n",
    "obj.deposit()\n",
    "obj.withdraw()\n",
    "obj.display()"
   ]
  },
  {
   "cell_type": "markdown",
   "id": "9d59550f-c8a5-4149-ad3f-f275a39c8086",
   "metadata": {},
   "source": [
    "### 6. Playing Cards\n",
    "4 suits (Hearts, Diamonds, Spades and Clubs)\n",
    "13 ranks (2 through 10, then the face cards Jack, Queen, King and Ace)\n",
    "\n",
    "    -- Total 52 Cards\n",
    "\n",
    "### The Game\n",
    " Jacks, Queens and Kings all have a rank of 10. Aces have a rank of either 11 or 1 as needed to reach 21 without busting. As a starting point in your program, you may want to assign variables to store a list of suits, ranks, and then use a dictionary to map ranks to values.\n",
    " 1. Create a deck of 52 cards\n",
    " 2. Shuffle the deck.\n",
    " 3. Display the winner if somebody's getting an Ace."
   ]
  },
  {
   "cell_type": "markdown",
   "id": "1d243239-dc35-4280-9e41-d75ea100b58d",
   "metadata": {},
   "source": [
    "### 7. Generate Password: 17 characters , minimum 1 Uppercase, 1 lowercase, 1 digits and 2 minimun special characters"
   ]
  },
  {
   "cell_type": "code",
   "execution_count": 25,
   "id": "7b464cc1",
   "metadata": {},
   "outputs": [
    {
     "name": "stdout",
     "output_type": "stream",
     "text": [
      "rjxBOUEAZM8U.Xm:u\n"
     ]
    }
   ],
   "source": [
    "import random\n",
    "import string\n",
    "for _ in range(2):\n",
    "    special = string.punctuation\n",
    "for _ in range(17):\n",
    "    characters = string.ascii_letters\n",
    "for _ in range(1):\n",
    "    lower = string.ascii_lowercase\n",
    "for _ in range(1):\n",
    "    digits = string.digits\n",
    "for _ in range(1):\n",
    "    upper = string.ascii_uppercase\n",
    "password = lower + upper + digits + characters + special\n",
    "temporary = random.sample(password,17)\n",
    "pswd  = \"\".join(temporary)\n",
    "print(pswd)"
   ]
  },
  {
   "cell_type": "markdown",
   "id": "5090a46a-a0f2-45e5-b058-f200ab845335",
   "metadata": {},
   "source": [
    "### 8. you are given a list which is [3, 5, 7, 3, 5, 7, 3, 545, 34, 235, 234, 6]. You have to sort it such that the seventh element is greatest of all, second element is greater than last element and second last element is not greater than sum of 8 and sixth element"
   ]
  },
  {
   "cell_type": "code",
   "execution_count": 77,
   "id": "1db1325a",
   "metadata": {},
   "outputs": [
    {
     "name": "stdout",
     "output_type": "stream",
     "text": [
      "[3, 6, 7, 3, 5, 7, 545, 3, 34, 235, 234, 5]\n",
      "[234, 6, 7, 3, 5, 7, 545, 3, 34, 235, 3, 5]\n"
     ]
    }
   ],
   "source": [
    "list_1 = [3,5,7,3,5,7,3,545,34,235,234,6]\n",
    "maximum = max(list_1)\n",
    "index = list_1.index(maximum)\n",
    "list_1[index],list_1[6] = list_1[6],list_1[index]\n",
    "if list_1[1] < list_1[-1]:\n",
    "    list_1[1], list_1[-1] = list_1[-1], list_1[1]\n",
    "print(list_1)\n",
    "\n",
    "index = 0\n",
    "while (list_1[-2] > list_1[7] + list_1[5]):\n",
    "    if index!=1 and index!=6:\n",
    "        list_1[index], list_1[-2] = list_1[-2], list_1[index]\n",
    "    index += 1\n",
    "print(list_1)"
   ]
  },
  {
   "cell_type": "code",
   "execution_count": null,
   "id": "affc29d3",
   "metadata": {},
   "outputs": [],
   "source": []
  }
 ],
 "metadata": {
  "kernelspec": {
   "display_name": "Python 3 (ipykernel)",
   "language": "python",
   "name": "python3"
  },
  "language_info": {
   "codemirror_mode": {
    "name": "ipython",
    "version": 3
   },
   "file_extension": ".py",
   "mimetype": "text/x-python",
   "name": "python",
   "nbconvert_exporter": "python",
   "pygments_lexer": "ipython3",
   "version": "3.9.13"
  }
 },
 "nbformat": 4,
 "nbformat_minor": 5
}
